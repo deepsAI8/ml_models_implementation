{
 "cells": [
  {
   "cell_type": "code",
   "execution_count": 142,
   "id": "5a437f1d-8fe6-47d2-8b7d-2da1351af177",
   "metadata": {},
   "outputs": [],
   "source": [
    "import numpy as np\n",
    "from sklearn.utils import resample\n",
    "\n",
    "from dtree import *\n",
    "import pdb"
   ]
  },
  {
   "cell_type": "code",
   "execution_count": 61,
   "id": "d883b2e7-330a-467b-a646-893581727c50",
   "metadata": {},
   "outputs": [],
   "source": [
    "a = [\n",
    "    [1, 2, 1, 4, 5, 6, 7],\n",
    "    [1, 2, 1, 1, 4, 8, 5],\n",
    "    [1, 2, 3, 9, 5, 0, 7],\n",
    "    [1, 2, 1, 4, 6, 1, 8],\n",
    "    [2, 1, 1, 8, 6, 4, 3]\n",
    "]"
   ]
  },
  {
   "cell_type": "code",
   "execution_count": 62,
   "id": "02baf74d-d1fc-4eca-9db0-dac621a4553c",
   "metadata": {},
   "outputs": [
    {
     "data": {
      "text/plain": [
       "array([0, 1, 2, 3, 4, 5, 6, 7, 8, 9])"
      ]
     },
     "execution_count": 62,
     "metadata": {},
     "output_type": "execute_result"
    }
   ],
   "source": [
    "np.unique(a)"
   ]
  },
  {
   "cell_type": "code",
   "execution_count": 63,
   "id": "6c5ffc73-b798-4ee9-acfd-5cded1023c4d",
   "metadata": {},
   "outputs": [
    {
     "data": {
      "text/plain": [
       "array([[1, 2, 1, 1, 4, 8, 5],\n",
       "       [1, 2, 1, 4, 5, 6, 7],\n",
       "       [1, 2, 1, 4, 6, 1, 8],\n",
       "       [1, 2, 3, 9, 5, 0, 7],\n",
       "       [2, 1, 1, 8, 6, 4, 3]])"
      ]
     },
     "execution_count": 63,
     "metadata": {},
     "output_type": "execute_result"
    }
   ],
   "source": [
    "np.unique(a , axis=0)"
   ]
  },
  {
   "cell_type": "code",
   "execution_count": 143,
   "id": "3648236c-679f-41be-ab4e-e55bc3ff5de9",
   "metadata": {},
   "outputs": [
    {
     "name": "stdout",
     "output_type": "stream",
     "text": [
      "--Return--\n",
      "None\n",
      "> \u001b[0;32m/var/folders/nd/_sqvjy6j76l4cp3jhkntppjm0000gn/T/ipykernel_33693/2060745576.py\u001b[0m(2)\u001b[0;36m<module>\u001b[0;34m()\u001b[0m\n",
      "\u001b[0;32m      1 \u001b[0;31m\u001b[0mmax_features\u001b[0m \u001b[0;34m=\u001b[0m \u001b[0;36m0.5\u001b[0m\u001b[0;34m\u001b[0m\u001b[0;34m\u001b[0m\u001b[0m\n",
      "\u001b[0m\u001b[0;32m----> 2 \u001b[0;31m\u001b[0;32mimport\u001b[0m \u001b[0mpdb\u001b[0m\u001b[0;34m;\u001b[0m\u001b[0mpdb\u001b[0m\u001b[0;34m.\u001b[0m\u001b[0mset_trace\u001b[0m\u001b[0;34m(\u001b[0m\u001b[0;34m)\u001b[0m\u001b[0;34m\u001b[0m\u001b[0;34m\u001b[0m\u001b[0m\n",
      "\u001b[0m\u001b[0;32m      3 \u001b[0;31m\u001b[0mnp\u001b[0m\u001b[0;34m.\u001b[0m\u001b[0mrandom\u001b[0m\u001b[0;34m.\u001b[0m\u001b[0mchoice\u001b[0m\u001b[0;34m(\u001b[0m\u001b[0mrange\u001b[0m\u001b[0;34m(\u001b[0m\u001b[0mlen\u001b[0m\u001b[0;34m(\u001b[0m\u001b[0ma\u001b[0m\u001b[0;34m[\u001b[0m\u001b[0;36m0\u001b[0m\u001b[0;34m]\u001b[0m\u001b[0;34m)\u001b[0m\u001b[0;34m)\u001b[0m\u001b[0;34m,\u001b[0m \u001b[0msize\u001b[0m \u001b[0;34m=\u001b[0m \u001b[0mint\u001b[0m\u001b[0;34m(\u001b[0m\u001b[0mlen\u001b[0m\u001b[0;34m(\u001b[0m\u001b[0ma\u001b[0m\u001b[0;34m[\u001b[0m\u001b[0;36m0\u001b[0m\u001b[0;34m]\u001b[0m\u001b[0;34m)\u001b[0m\u001b[0;34m*\u001b[0m\u001b[0mmax_features\u001b[0m\u001b[0;34m)\u001b[0m\u001b[0;34m,\u001b[0m \u001b[0mreplace\u001b[0m \u001b[0;34m=\u001b[0m \u001b[0;32mFalse\u001b[0m\u001b[0;34m)\u001b[0m\u001b[0;34m\u001b[0m\u001b[0;34m\u001b[0m\u001b[0m\n",
      "\u001b[0m\n"
     ]
    },
    {
     "name": "stdin",
     "output_type": "stream",
     "text": [
      "ipdb>  max_features\n"
     ]
    },
    {
     "name": "stdout",
     "output_type": "stream",
     "text": [
      "0.5\n"
     ]
    },
    {
     "name": "stdin",
     "output_type": "stream",
     "text": [
      "ipdb>  max_features + 0.5\n"
     ]
    },
    {
     "name": "stdout",
     "output_type": "stream",
     "text": [
      "1.0\n"
     ]
    },
    {
     "name": "stdin",
     "output_type": "stream",
     "text": [
      "ipdb>  q\n"
     ]
    }
   ],
   "source": [
    "max_features = 0.5\n",
    "import pdb;pdb.set_trace()\n",
    "np.random.choice(range(len(a[0])), size = int(len(a[0])*max_features), replace = False)"
   ]
  },
  {
   "cell_type": "code",
   "execution_count": 133,
   "id": "c2130799-d8e5-4af1-b42c-97dc75fd5bc6",
   "metadata": {},
   "outputs": [],
   "source": [
    "X = np.array([[1., 0.], [2., 1.], [0., 0.], [4, 3], [7, 8], [9, 1]])\n",
    "y = np.array([0, 1, 2, 5, 4, 2])"
   ]
  },
  {
   "cell_type": "code",
   "execution_count": 135,
   "id": "49a60a4b-dfe3-41a7-9dac-68bf3aae7845",
   "metadata": {},
   "outputs": [
    {
     "data": {
      "text/plain": [
       "array([0, 1, 2, 4, 5])"
      ]
     },
     "execution_count": 135,
     "metadata": {},
     "output_type": "execute_result"
    }
   ],
   "source": [
    "np.unique(y)"
   ]
  },
  {
   "cell_type": "code",
   "execution_count": 134,
   "id": "3dcc8278-29e6-40b6-8462-bd7e9514e375",
   "metadata": {},
   "outputs": [
    {
     "data": {
      "text/plain": [
       "array([[9., 1.],\n",
       "       [1., 0.],\n",
       "       [9., 1.],\n",
       "       [1., 0.],\n",
       "       [2., 1.],\n",
       "       [4., 3.]])"
      ]
     },
     "execution_count": 134,
     "metadata": {},
     "output_type": "execute_result"
    }
   ],
   "source": [
    "Xidx = resample(X, replace = True)\n",
    "Xidx"
   ]
  },
  {
   "cell_type": "code",
   "execution_count": 127,
   "id": "b3d49ebf-5538-42f1-a124-f398af031689",
   "metadata": {},
   "outputs": [
    {
     "data": {
      "text/plain": [
       "(array([[1., 0.],\n",
       "        [4., 3.],\n",
       "        [0., 0.],\n",
       "        [4., 3.]]),\n",
       " array([0., 5., 2., 5.]),\n",
       " [0, 3, 2, 3])"
      ]
     },
     "execution_count": 127,
     "metadata": {},
     "output_type": "execute_result"
    }
   ],
   "source": [
    "Xidx, yidx, idx = resample(X, y,range(len(X[:,0])), replace = True)\n",
    "Xidx, yidx, idx"
   ]
  },
  {
   "cell_type": "code",
   "execution_count": 145,
   "id": "eac1d25f-292c-44f5-b107-66b2bb1f13c3",
   "metadata": {},
   "outputs": [
    {
     "data": {
      "text/plain": [
       "array([1, 4, 5])"
      ]
     },
     "execution_count": 145,
     "metadata": {},
     "output_type": "execute_result"
    }
   ],
   "source": [
    "np.array(list(set(range(len(X[:,0]))) - set(idx)))"
   ]
  },
  {
   "cell_type": "code",
   "execution_count": 129,
   "id": "626b2f1a-2b46-44c4-9225-ee1d8a8f629a",
   "metadata": {},
   "outputs": [
    {
     "data": {
      "text/plain": [
       "(array([1., 2., 0., 4.]),\n",
       " array([[1., 0.],\n",
       "        [4., 3.],\n",
       "        [0., 0.],\n",
       "        [4., 3.]]))"
      ]
     },
     "execution_count": 129,
     "metadata": {},
     "output_type": "execute_result"
    }
   ],
   "source": [
    "X[:,0], X[idx]"
   ]
  },
  {
   "cell_type": "code",
   "execution_count": 73,
   "id": "7c680a66-9a06-48b9-9be3-0489e9874707",
   "metadata": {},
   "outputs": [
    {
     "data": {
      "text/plain": [
       "[[2, 1, 1, 8, 6, 4, 3],\n",
       " [1, 2, 1, 4, 5, 6, 7],\n",
       " [1, 2, 1, 4, 6, 1, 8],\n",
       " [1, 2, 1, 4, 6, 1, 8],\n",
       " [1, 2, 1, 4, 6, 1, 8]]"
      ]
     },
     "execution_count": 73,
     "metadata": {},
     "output_type": "execute_result"
    }
   ],
   "source": [
    "resample(a, n_samples=5, replace=True, random_state=0)"
   ]
  },
  {
   "cell_type": "code",
   "execution_count": 149,
   "id": "17a0f008-b937-43e8-b1d6-445f977cd775",
   "metadata": {},
   "outputs": [
    {
     "data": {
      "text/plain": [
       "array([[0., 0.],\n",
       "       [0., 0.],\n",
       "       [0., 0.],\n",
       "       [0., 0.],\n",
       "       [0., 0.],\n",
       "       [0., 0.]])"
      ]
     },
     "execution_count": 149,
     "metadata": {},
     "output_type": "execute_result"
    }
   ],
   "source": [
    "np.zeros((X.shape[0],2))"
   ]
  },
  {
   "cell_type": "code",
   "execution_count": 150,
   "id": "053beaa0-a26d-4ce2-9bb9-25e8fdda0a76",
   "metadata": {},
   "outputs": [],
   "source": [
    "counts = {i:0 for i in range(5)}"
   ]
  },
  {
   "cell_type": "code",
   "execution_count": 153,
   "id": "c77be606-b473-49dd-980c-83922138e4c0",
   "metadata": {},
   "outputs": [],
   "source": [
    "counts[3] = 4"
   ]
  },
  {
   "cell_type": "code",
   "execution_count": 154,
   "id": "af1f6b9f-9bc7-4557-a44d-1cfd401a939d",
   "metadata": {},
   "outputs": [
    {
     "data": {
      "text/plain": [
       "{0: 0, 1: 0, 2: 10, 3: 4, 4: 0}"
      ]
     },
     "execution_count": 154,
     "metadata": {},
     "output_type": "execute_result"
    }
   ],
   "source": [
    "counts"
   ]
  },
  {
   "cell_type": "code",
   "execution_count": 158,
   "id": "b8b0e7c4-0ecb-4738-a411-44b6a98e2b4e",
   "metadata": {},
   "outputs": [
    {
     "data": {
      "text/plain": [
       "2"
      ]
     },
     "execution_count": 158,
     "metadata": {},
     "output_type": "execute_result"
    }
   ],
   "source": [
    "sorted(counts, key= lambda x: counts[x], reverse=True)[0]"
   ]
  },
  {
   "cell_type": "code",
   "execution_count": null,
   "id": "dd54443c-ca48-421d-888a-7121f249faba",
   "metadata": {},
   "outputs": [],
   "source": [
    "def vectorize(V:dict, docwords:Sequence) -> np.ndarray:\n",
    "    \"\"\"\n",
    "    Return a row vector (based upon V) for docwords with the word counts. \n",
    "    The first element of the returned vector is the count of unknown words. So |V| is |uniquewords|+1.\n",
    "    \"\"\"\n",
    "    zarr = np.zeros(len(V))\n",
    "    myarr = np.unique(docwords, return_counts=True)\n",
    "    \n",
    "    def func1(V, x):\n",
    "        if x in V:\n",
    "            return V[x] #np.where(np.array(list(V.keys())) == x)[0][0]\n",
    "        else:\n",
    "            return 0\n",
    "\n",
    "    v_func1 = np.vectorize(func1)\n",
    "    ind = v_func1(V, myarr[0])\n",
    "    def func2(ind, myarr):\n",
    "        zarr[ind] += myarr\n",
    "\n",
    "    v_func2 = np.vectorize(func2, otypes = [object])\n",
    "    v_func2(ind, myarr[1])\n",
    "    return zarr"
   ]
  },
  {
   "cell_type": "code",
   "execution_count": 138,
   "id": "a601ff32-5a68-4c60-b8d4-e5804cfce714",
   "metadata": {},
   "outputs": [],
   "source": [
    "class RandomForest621:\n",
    "    def __init__(self, n_estimators=10, oob_score=False):\n",
    "        self.n_estimators = n_estimators\n",
    "        self.oob_score = oob_score\n",
    "        self.oob_score_ = np.nan\n",
    "        #self.nunique = np.unique(y)\n",
    "\n",
    "    def fit(self, X, y):\n",
    "        \"\"\"\n",
    "        Given an (X, y) training set, fit all n_estimators trees to different,\n",
    "        bootstrapped versions of the training data.  Keep track of the indexes of\n",
    "        the OOB records for each tree.  After fitting all of the trees in the forest,\n",
    "        compute the OOB validation score estimate and store as self.oob_score_, to\n",
    "        mimic sklearn.\n",
    "        \"\"\"\n",
    "        self.nunique = len(np.unique(y))\n",
    "        trees = []\n",
    "        oob_idx = []\n",
    "        for i in range(self.n_estimators):\n",
    "            Xb, yb, idx = resample(X, y, range(len(X[:,0])), replace=True)\n",
    "            oob_idx.append(np.array(list(set(range(len(X[:,0]))) - set(idx))))\n",
    "            ti = self.tname.fit(Xb, yb)\n",
    "            trees.append(ti.root)\n",
    "        self.trees = trees\n",
    "\n",
    "        if self.oob_score:\n",
    "            self.oob_score_ = '... compute OOB score ...'"
   ]
  },
  {
   "cell_type": "code",
   "execution_count": 139,
   "id": "3ea1634e-9c0c-4fed-98dd-fd5252b874de",
   "metadata": {},
   "outputs": [],
   "source": [
    "class RandomForestRegressor621(RandomForest621):\n",
    "    def __init__(self, n_estimators=10, min_samples_leaf=3, max_features=0.3, oob_score=False):\n",
    "        super().__init__(n_estimators, oob_score=oob_score)\n",
    "        self.trees = self.fit\n",
    "\n",
    "    def predict(self, X_test) -> np.ndarray:\n",
    "        \"\"\"\n",
    "        Given a 2D nxp array with one or more records, compute the weighted average\n",
    "        prediction from all trees in this forest. Weight each trees prediction by\n",
    "        the number of observations in the leaf making that prediction.  Return a 1D vector\n",
    "        with the predictions for each input record of X_test.\n",
    "        \"\"\"\n",
    "        y_pred=[]\n",
    "        for x in X_test:\n",
    "            leaves = set()\n",
    "            njobs, ysum = 0, 0\n",
    "            for i in self.trees:\n",
    "                leaves.add(i.leaf(X_test)) #set of leaves reached by x\n",
    "                nobs += len(i.leaf(X_test))\n",
    "                ysum += i.leaf(X_test).y\n",
    "            y_pred.append(ysum / nobs)\n",
    "\n",
    "        return np.array(y_pred)\n",
    "        \n",
    "    def score(self, X_test, y_test) -> float:\n",
    "        \"\"\"\n",
    "        Given a 2D nxp X_test array and 1D nx1 y_test array with one or more records,\n",
    "        collect the prediction for each record and then compute R^2 on that and y_test.\n",
    "        \"\"\"\n",
    "        return r2_score(y_test, self.predict(X_test))"
   ]
  },
  {
   "cell_type": "code",
   "execution_count": 136,
   "id": "db6381fe-c94b-4e6d-90ef-8bf988999a3a",
   "metadata": {},
   "outputs": [
    {
     "data": {
      "text/plain": [
       "32"
      ]
     },
     "execution_count": 136,
     "metadata": {},
     "output_type": "execute_result"
    }
   ],
   "source": [
    "d = {'a': 2, 'b': 4, 'c': 32}\n",
    "max(d.values())"
   ]
  },
  {
   "cell_type": "code",
   "execution_count": 141,
   "id": "54793111-9a3b-43bc-a8ca-7515266bf142",
   "metadata": {},
   "outputs": [],
   "source": [
    "class RandomForestClassifier621(RandomForest621):\n",
    "    def __init__(self, n_estimators=10, min_samples_leaf=3, max_features=0.3, oob_score=False):\n",
    "        super().__init__(n_estimators, oob_score=oob_score)\n",
    "        n_estimators = n_estimators\n",
    "        self.min_samples_leaf = min_samples_leaf\n",
    "        self.trees = self.fit\n",
    "\n",
    "    def predict(self, X_test) -> np.ndarray:\n",
    "        counts = {}\n",
    "        y_pred=[]\n",
    "        for x in X_test:\n",
    "            for i in self.trees:\n",
    "                xleaf = i.leaf(X_test) #set of leaves reached by x\n",
    "                for j in xleaf.y:\n",
    "                    counts[j] += 1\n",
    "            y_pred.append(max(counts.values()))\n",
    "        return np.array(y_pred)\n",
    "        \n",
    "    def score(self, X_test, y_test) -> float:\n",
    "        \"\"\"\n",
    "        Given a 2D nxp X_test array and 1D nx1 y_test array with one or more records,\n",
    "        collect the predicted class for each record and then compute accuracy between\n",
    "        that and y_test.\n",
    "        \"\"\"\n",
    "        return accuracy_score(y_test, self.predict(X_test))  "
   ]
  },
  {
   "cell_type": "code",
   "execution_count": null,
   "id": "b87215fa-a7f2-46ae-a5e7-22932470f5c2",
   "metadata": {},
   "outputs": [],
   "source": []
  }
 ],
 "metadata": {
  "kernelspec": {
   "display_name": "Python 3 (ipykernel)",
   "language": "python",
   "name": "python3"
  },
  "language_info": {
   "codemirror_mode": {
    "name": "ipython",
    "version": 3
   },
   "file_extension": ".py",
   "mimetype": "text/x-python",
   "name": "python",
   "nbconvert_exporter": "python",
   "pygments_lexer": "ipython3",
   "version": "3.9.13"
  }
 },
 "nbformat": 4,
 "nbformat_minor": 5
}
